{
 "cells": [
  {
   "cell_type": "code",
   "execution_count": 6,
   "metadata": {},
   "outputs": [
    {
     "data": {
      "image/png": "[encoded data removed]",
      "text/plain": [
       "<Figure size 640x480 with 1 Axes>"
      ]
     },
     "metadata": {},
     "output_type": "display_data"
    }
   ],
   "source": [
    "import cv2\n",
    "import matplotlib.pyplot as plt\n",
    "import numpy as np\n",
    "import math\n",
    "\n",
    "\n",
    "def center_image(img1):\n",
    "    #Image Centering\n",
    "\n",
    "    hh = img1.shape[0]\n",
    "    ww = img1.shape[1]\n",
    "\n",
    "\n",
    "    # get contours (presumably just one around the nonzero pixels) \n",
    "    contours = cv2.findContours(img1, cv2.RETR_EXTERNAL, cv2.CHAIN_APPROX_SIMPLE)\n",
    "    contours = contours[0] if len(contours) == 2 else contours[1]\n",
    "    for cntr in contours:\n",
    "        x,y,w,h = cv2.boundingRect(cntr)\n",
    "\n",
    "    # recenter\n",
    "    startx = (ww - w)//2\n",
    "    starty = (hh - h)//2\n",
    "    result = np.zeros_like(img1)\n",
    "    result[starty:starty+h,startx:startx+w] = img1  [y:y+h,x:x+w]\n",
    "    return result\n",
    "\n",
    "\n",
    "\n",
    "\n",
    "img1 = cv2.imread('NumberData/Number8/num2.jpg')\n",
    "img1 = cv2.cvtColor(img1, cv2.COLOR_BGR2GRAY)\n",
    "img1 = cv2.threshold(img1, 100, 255, cv2.THRESH_BINARY)\n",
    "# plt.imshow(img1, cmap='gray')\n",
    "img1 = center_image(img1[1])\n",
    "plt.imshow(img1, cmap='gray')\n",
    "\n",
    "x = img1.shape[0]\n",
    "y = img1.shape[1]\n",
    "\n",
    "## To draw horizontal lines\n",
    "\n",
    "horizotal_lines = np.zeros_like(img1, dtype = np.uint8)\n",
    "\n",
    "horizotal_lines = cv2.line(horizotal_lines, (0, 28), (x, 28), (255, 255, 255), 1)\n",
    "horizotal_lines = cv2.line(horizotal_lines, (0, 42), (x, 42), (255, 255, 255), 1)\n",
    "horizotal_lines = cv2.line(horizotal_lines, (0, 55), (x, 55), (255, 255, 255), 1)\n",
    "horizotal_lines = cv2.line(horizotal_lines, (0, 69), (x, 69), (255, 255, 255), 1)\n",
    "horizotal_lines = cv2.line(horizotal_lines, (0, 82), (x, 82), (255, 255, 255), 1)\n",
    "\n",
    "## To draw vertical lines\n",
    "\n",
    "vertical_lines = np.zeros_like(img1, dtype = np.uint8)\n",
    "\n",
    "vertical_lines = cv2.line(vertical_lines, (28, 0), (28, y), (255, 255, 255), 1)\n",
    "vertical_lines = cv2.line(vertical_lines, (42, 0), (42, y), (255, 255, 255), 1)\n",
    "vertical_lines = cv2.line(vertical_lines, (55, 0), (55, y), (255, 255, 255), 1)\n",
    "vertical_lines = cv2.line(vertical_lines, (69, 0), (69, y), (255, 255, 255), 1)\n",
    "vertical_lines = cv2.line(vertical_lines, (82, 0), (82, y), (255, 255, 255), 1)\n",
    "\n",
    "\n",
    "## Get Intersection points\n",
    "horizontal_intersections = horizotal_lines & img1\n",
    "vertical_intersections = vertical_lines & img1\n",
    "\n",
    "horizontal_count = 0\n",
    "vertical_count = 0\n",
    "\n",
    "# new_img = horizotal_lines | vertical_lines | img1\n",
    "# plt.imshow(new_img, cmap='gray')\n",
    "for i in range(img1.shape[0]):\n",
    "    for j in range(img1.shape[1]):\n",
    "        if horizontal_intersections[i][j] > 230:\n",
    "            horizontal_count += 1\n",
    "        if vertical_intersections[i][j] > 230:\n",
    "            vertical_count += 1\n",
    "\n",
    "\n"
   ]
  },
  {
   "cell_type": "code",
   "execution_count": null,
   "metadata": {},
   "outputs": [],
   "source": []
  }
 ],
 "metadata": {
  "kernelspec": {
   "display_name": "Python 3 (ipykernel)",
   "language": "python",
   "name": "python3"
  },
  "language_info": {
   "codemirror_mode": {
    "name": "ipython",
    "version": 3
   },
   "file_extension": ".py",
   "mimetype": "text/x-python",
   "name": "python",
   "nbconvert_exporter": "python",
   "pygments_lexer": "ipython3",
   "version": "3.10.12"
  }
 },
 "nbformat": 4,
 "nbformat_minor": 2
}
